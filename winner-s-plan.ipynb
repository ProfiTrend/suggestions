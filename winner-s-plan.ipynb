{"cells":[{"metadata":{},"cell_type":"markdown","source":"# План работы \n1. Первый взгляд на датасет и понимание его специфики (.head(), .info(), .describe(), .corr())\n2. Разделение на обучающую выборку (train_data) и target\n3. Preprocessing\n - Обработка пропусков в данных\n - Поиск неявных дубликатов\n - Обнаружение выбросов\n - Кодирование данных\n - Нормализация тренировочных данных\n4. Разделение данных для обучения и тестирования\n5. Обучение модели\n6. Подбор оптимальных параметров\n7. Достижение максимального результата\n8. Вывод ответа"},{"metadata":{},"cell_type":"markdown","source":"[Лучший блог ML для начинающих](http://blog.datalytica.ru/2018/04/blog-post.html)"}],"metadata":{"kernelspec":{"name":"python3","display_name":"Python 3","language":"python"},"language_info":{"name":"python","version":"3.7.9","mimetype":"text/x-python","codemirror_mode":{"name":"ipython","version":3},"pygments_lexer":"ipython3","nbconvert_exporter":"python","file_extension":".py"}},"nbformat":4,"nbformat_minor":4}

#Кластеризация столбцов

#Делим столбец 'Age' по возрастным группам age1=[0,4] и т. д.
df_train['AgeGroup'] = pd.cut(df_train['Age'], [0,4,18,45,75,100], right = False)
ag = pd.get_dummies(df_train['AgeGroup'])
ag.columns = ['age1','age2','age3','age4','age5']
df_train = pd.concat([df_train, ag], axis = 1)
del df_train['Age']

#Преобразуем столбец 'Name' в 'Title' по префиксам 'Mr', 'Mrs', 'Miss' и т. д.
Title = {'Mr':1,'Miss':2,'Mrs':3,'Master':4,'Rare':5}
df_train['Title'] = df_train.Name.str.extract('([A-Za-z]+)\.',expand = False)
#Replace title with more common one
df_train['Title'] = df_train['Title'].replace(['Lady','Countess','Capt','Col','Don','Dr', 
                                                'Major','Rev','Sir','Jonkheer','Dona'],'Rare')
df_train['Title'] = df_train['Title'].replace('Ms','Miss')
df_train['Title'] = df_train['Title'].replace('Mlle','Miss')
df_train['Title'] = df_train['Title'].replace('Mme','Mrs')
df_train['Title'] = df_train['Title'].map(Title)
df_train.pop('Name')
